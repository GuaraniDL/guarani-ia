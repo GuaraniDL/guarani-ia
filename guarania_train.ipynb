{
 "cells": [
  {
   "cell_type": "code",
   "execution_count": 1,
   "id": "173d314f",
   "metadata": {},
   "outputs": [],
   "source": [
    "!pip install -q tensorflow==2.5.0"
   ]
  },
  {
   "cell_type": "code",
   "execution_count": 2,
   "id": "5860921f",
   "metadata": {},
   "outputs": [],
   "source": [
    "!pip install -q --use-deprecated=legacy-resolver tflite-model-maker"
   ]
  },
  {
   "cell_type": "code",
   "execution_count": 3,
   "id": "a8e7484e",
   "metadata": {},
   "outputs": [],
   "source": [
    "!pip install -q pycocotools"
   ]
  },
  {
   "cell_type": "code",
   "execution_count": 4,
   "id": "120263ba",
   "metadata": {},
   "outputs": [],
   "source": [
    "\n",
    "import numpy as np\n",
    "import os\n",
    "\n",
    "from tflite_model_maker.config import ExportFormat\n",
    "from tflite_model_maker import model_spec\n",
    "from tflite_model_maker import object_detector\n",
    "\n",
    "import tensorflow as tf\n",
    "assert tf.__version__.startswith('2')\n",
    "\n",
    "tf.get_logger().setLevel('ERROR')\n",
    "from absl import logging\n",
    "logging.set_verbosity(logging.ERROR)\n",
    "\n"
   ]
  },
  {
   "cell_type": "code",
   "execution_count": 5,
   "id": "9b967657",
   "metadata": {},
   "outputs": [],
   "source": [
    "spec = model_spec.get('efficientdet_lite4')"
   ]
  },
  {
   "cell_type": "code",
   "execution_count": 12,
   "id": "28667050",
   "metadata": {},
   "outputs": [],
   "source": [
    "train_data, validation_data, test_data = object_detector.DataLoader.from_csv ('C:\\GuaranIA\\\\anotaciones.csv')"
   ]
  },
  {
   "cell_type": "code",
   "execution_count": null,
   "id": "2cf930f0",
   "metadata": {},
   "outputs": [
    {
     "name": "stdout",
     "output_type": "stream",
     "text": [
      "Epoch 1/5\n",
      "256/256 [==============================] - 6652s 26s/step - det_loss: 1.2426 - cls_loss: 0.9441 - box_loss: 0.0060 - reg_l2_loss: 0.1096 - loss: 1.3522 - learning_rate: 0.0090 - gradient_norm: 5.0823 - val_det_loss: 1.1520 - val_cls_loss: 0.8224 - val_box_loss: 0.0066 - val_reg_l2_loss: 0.1105 - val_loss: 1.2624\n",
      "Epoch 2/5\n",
      "256/256 [==============================] - 5374s 21s/step - det_loss: 0.7335 - cls_loss: 0.5309 - box_loss: 0.0041 - reg_l2_loss: 0.1109 - loss: 0.8444 - learning_rate: 0.0069 - gradient_norm: 5.2018 - val_det_loss: 0.6249 - val_cls_loss: 0.4713 - val_box_loss: 0.0031 - val_reg_l2_loss: 0.1111 - val_loss: 0.7360\n",
      "Epoch 3/5\n",
      "256/256 [==============================] - 5299s 21s/step - det_loss: 0.6086 - cls_loss: 0.4437 - box_loss: 0.0033 - reg_l2_loss: 0.1112 - loss: 0.7198 - learning_rate: 0.0031 - gradient_norm: 5.0167 - val_det_loss: 0.6046 - val_cls_loss: 0.4523 - val_box_loss: 0.0030 - val_reg_l2_loss: 0.1112 - val_loss: 0.7158\n",
      "Epoch 4/5\n",
      "256/256 [==============================] - 5309s 21s/step - det_loss: 0.5491 - cls_loss: 0.4023 - box_loss: 0.0029 - reg_l2_loss: 0.1112 - loss: 0.6603 - learning_rate: 4.9933e-04 - gradient_norm: 4.7614 - val_det_loss: 0.5937 - val_cls_loss: 0.4500 - val_box_loss: 0.0029 - val_reg_l2_loss: 0.1112 - val_loss: 0.7049\n",
      "Epoch 5/5\n",
      "143/256 [===============>..............] - ETA: 38:08 - det_loss: 0.5350 - cls_loss: 0.3926 - box_loss: 0.0028 - reg_l2_loss: 0.1112 - loss: 0.6462 - learning_rate: 1.5721e-04 - gradient_norm: 4.6574"
     ]
    }
   ],
   "source": [
    "\n",
    "\n",
    "model = object_detector.create(train_data, model_spec=spec, batch_size=8,epochs=100, train_whole_model=True, validation_data=validation_data)\n",
    "\n"
   ]
  },
  {
   "cell_type": "code",
   "execution_count": null,
   "id": "28ac68b7",
   "metadata": {},
   "outputs": [],
   "source": [
    "model.evaluate(test_data)"
   ]
  },
  {
   "cell_type": "code",
   "execution_count": 15,
   "id": "4422d482",
   "metadata": {},
   "outputs": [
    {
     "ename": "NameError",
     "evalue": "name 'model' is not defined",
     "output_type": "error",
     "traceback": [
      "\u001b[1;31m---------------------------------------------------------------------------\u001b[0m",
      "\u001b[1;31mNameError\u001b[0m                                 Traceback (most recent call last)",
      "\u001b[1;32mC:\\Users\\LENOVO~1\\AppData\\Local\\Temp/ipykernel_12508/2974578030.py\u001b[0m in \u001b[0;36m<module>\u001b[1;34m\u001b[0m\n\u001b[1;32m----> 1\u001b[1;33m \u001b[0mmodel\u001b[0m\u001b[1;33m.\u001b[0m\u001b[0mexport\u001b[0m\u001b[1;33m(\u001b[0m\u001b[0mexport_dir\u001b[0m\u001b[1;33m=\u001b[0m\u001b[1;34m'.'\u001b[0m\u001b[1;33m)\u001b[0m\u001b[1;33m\u001b[0m\u001b[0m\n\u001b[0m\u001b[0;32m      2\u001b[0m \u001b[1;33m\u001b[0m\u001b[0m\n",
      "\u001b[1;31mNameError\u001b[0m: name 'model' is not defined"
     ]
    }
   ],
   "source": [
    "model.export(export_dir='.')"
   ]
  }
 ],
 "metadata": {
  "kernelspec": {
   "display_name": "Python 3 (ipykernel)",
   "language": "python",
   "name": "python3"
  },
  "language_info": {
   "codemirror_mode": {
    "name": "ipython",
    "version": 3
   },
   "file_extension": ".py",
   "mimetype": "text/x-python",
   "name": "python",
   "nbconvert_exporter": "python",
   "pygments_lexer": "ipython3",
   "version": "3.7.0"
  }
 },
 "nbformat": 4,
 "nbformat_minor": 5
}
